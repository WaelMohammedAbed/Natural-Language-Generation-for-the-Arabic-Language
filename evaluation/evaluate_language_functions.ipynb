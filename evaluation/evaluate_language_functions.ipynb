{
  "nbformat": 4,
  "nbformat_minor": 0,
  "metadata": {
    "colab": {
      "name": "evaluate_language_functions.ipynb",
      "provenance": [],
      "toc_visible": true
    },
    "kernelspec": {
      "name": "python3",
      "display_name": "Python 3"
    }
  },
  "cells": [
    {
      "cell_type": "markdown",
      "metadata": {
        "id": "ZBrRD6HcQkML",
        "colab_type": "text"
      },
      "source": [
        "# Example on how to evaluate the language functions\n",
        "- The goal is to inflect all words that are either noun, adjective, verb, pronoun, country adjective or numbers to be spelt out. In other words, all words that can be changed based on gender, case, tenses, number or any other factors.\n",
        "- Then, compare the generated sentence with the original one, and check if they are the same or not."
      ]
    },
    {
      "cell_type": "markdown",
      "metadata": {
        "id": "XA2UdBd1SdUS",
        "colab_type": "text"
      },
      "source": [
        "The original sentence"
      ]
    },
    {
      "cell_type": "code",
      "metadata": {
        "id": "s1sb1HWFSg5h",
        "colab_type": "code",
        "colab": {}
      },
      "source": [
        "original_sentence=\"بررت ساندي اتهاماتها لقرارها بسحب الأغنية \"\n",
        "\n",
        "# original sentence translation : Sandy justified her accusations for her decision to withdraw the song "
      ],
      "execution_count": 6,
      "outputs": []
    },
    {
      "cell_type": "markdown",
      "metadata": {
        "id": "9Rm79PMISrNT",
        "colab_type": "text"
      },
      "source": [
        "**Using the Arabic language function API to inflect the words**</br>\n",
        "\n",
        "\n",
        "---\n",
        "\n",
        "\n",
        "The first word in the original sentence is a verb. Therefore, ar_inflectVerb function is called with these parameters:\n",
        "- word: برر  (justify)- the verb root of بررت (justified -f-singular-past) the one used in the original sentence.\n",
        "- number: 1 - the number of subjects doing this verb\n",
        "- gender: f - the gender of the subject doing this verb is female\n",
        "- person: 3 - to indicate the third person\n",
        "- mood_tense: 'past' - to inflect the verb in the past tense as it is used in the original sentence\n",
        "- voice: 'active' - to set the voice type of the verb as same as the voice of the original sentence.\n",
        "\n",
        "The result of the API call response will be added to the inflected sentence"
      ]
    },
    {
      "cell_type": "code",
      "metadata": {
        "id": "Ay0ZEhRpUebF",
        "colab_type": "code",
        "colab": {}
      },
      "source": [
        "inflected_sentence=\"\"\n",
        "\n",
        "import requests\n",
        "import json\n",
        "\n",
        "# get inflected verb from the API\n",
        "url = 'https://ar-nlg.herokuapp.com/ar_inflectVerb'\n",
        "myobj = {\n",
        "'word':'برر',\n",
        "'number': '1',\n",
        "'gender': 'f',\n",
        "'person': '3',\n",
        "'mood_tense': 'past',\n",
        "'voice': 'active'}\n",
        "\n",
        "page = requests.post(url, data = myobj)\n",
        "\n",
        "output = json.loads(page.text)\n",
        "\n",
        "\n",
        "if not output[\"error\"]:\n",
        "    #print(output[\"result\"])\n",
        "    inflected_sentence+=output[\"result\"]\n",
        "else:\n",
        "    print(\"Error\")\n",
        "# ---------------------------------------------------"
      ],
      "execution_count": 7,
      "outputs": []
    },
    {
      "cell_type": "markdown",
      "metadata": {
        "id": "GnkcmrXqUjHg",
        "colab_type": "text"
      },
      "source": [
        "The second word is just a name \"**Sandy**\" (ساندي). Therefore, it directly added to the inflected sentence.</br>\n",
        "The part \"**her accusations**\" need to be inflected. \"**accusations**\" in Arabic is \"اتهامات\", which is the plural form of the word \"اتهام\" (accusation). And \"**her**\" in Arabic is a possessive pronoun added as a suffix to the noun accusations to form the final result \"اتهاماتها\". This is done by using the following two steps:\n",
        "- First, the word \"**accusations**\" (اتهامات) is inflected using the \"ar_inflectNoun\" function by giving it the right values (female, plural and the noun \"اتهام\"-accusation).\n",
        "- The second step is to pass the result of the first step to the \"ar_pronouns\" function and set its parameter as shown in the cell below. This will attach the right pronoun \"**her**\" (ها) to the word to get the final result"
      ]
    },
    {
      "cell_type": "code",
      "metadata": {
        "id": "Ti14yd9lY3O1",
        "colab_type": "code",
        "colab": {
          "base_uri": "https://localhost:8080/",
          "height": 51
        },
        "outputId": "1edca00c-1d96-4fff-8512-637e3e4a004c"
      },
      "source": [
        "inflected_sentence+=\" ساندي \"\n",
        "\n",
        "# get inflected noun from the API\n",
        "url = 'https://ar-nlg.herokuapp.com/ar_inflectNoun'\n",
        "myobj = {\n",
        "'word':'اتهام',\n",
        "'number': 'plural',\n",
        "'gender': 'f',\n",
        "'case': '',\n",
        "'dual': '',\n",
        "'plural': ''}\n",
        "\n",
        "page = requests.post(url, data = myobj)\n",
        "\n",
        "output = json.loads(page.text)\n",
        "\n",
        "noun_1=\"\"\n",
        "if not output[\"error\"]:\n",
        "    print(output[\"result\"])\n",
        "    noun_1=output[\"result\"]\n",
        "else:\n",
        "    print(\"Error\")\n",
        "# ---------------------------------------------------\n",
        "\n",
        "# add possessive pronoun to the noun resulted from the previous call\n",
        "url = 'https://ar-nlg.herokuapp.com/ar_pronouns'\n",
        "myobj = {\n",
        "'word':noun_1,\n",
        "'number': '1',\n",
        "'gender': 'f',\n",
        "'pronoun_type': 'possessive',\n",
        "'is_person': '',\n",
        "'person': '3'}\n",
        "\n",
        "page = requests.post(url, data = myobj)\n",
        "\n",
        "#print(page.text)\n",
        "output = json.loads(page.text)\n",
        "\n",
        "\n",
        "if not output[\"error\"]:\n",
        "    print(output[\"result\"])\n",
        "    inflected_sentence+=output[\"result\"]\n",
        "else:\n",
        "    print(\"Error\")\n",
        "# ---------------------------------------------------"
      ],
      "execution_count": 8,
      "outputs": [
        {
          "output_type": "stream",
          "text": [
            "اتهامات\n",
            "اتهاماتها\n"
          ],
          "name": "stdout"
        }
      ]
    },
    {
      "cell_type": "markdown",
      "metadata": {
        "id": "SLPPSWdhZ0t9",
        "colab_type": "text"
      },
      "source": [
        "With regards to \"**for her decision**\". The word \"**for**\" is directly added, as it doesn't require any inflection. And Repeat the same process for the words \"**her decision**\""
      ]
    },
    {
      "cell_type": "code",
      "metadata": {
        "id": "f-_O8V1SamRf",
        "colab_type": "code",
        "colab": {}
      },
      "source": [
        "\n",
        "inflected_sentence+=\" ل\"\n",
        "\n",
        "# get inflected noun from the API\n",
        "url = 'https://ar-nlg.herokuapp.com/ar_inflectNoun'\n",
        "myobj = {\n",
        "'word':'قرار',\n",
        "'number': 'singular',\n",
        "'gender': '',\n",
        "'case': '',\n",
        "'dual': '',\n",
        "'plural': ''}\n",
        "\n",
        "page = requests.post(url, data = myobj)\n",
        "\n",
        "output = json.loads(page.text)\n",
        "\n",
        "noun_2=\"\"\n",
        "if not output[\"error\"]:\n",
        "    #print(output[\"result\"])\n",
        "    noun_2=output[\"result\"]\n",
        "else:\n",
        "    print(\"Error1\")\n",
        "    print(page.text)\n",
        "# ---------------------------------------------------\n",
        "\n",
        "# add possessive pronoun to the noun resulted from the previous call\n",
        "url = 'https://ar-nlg.herokuapp.com/ar_pronouns'\n",
        "myobj = {\n",
        "'word':noun_2,\n",
        "'number': '1',\n",
        "'gender': 'f',\n",
        "'pronoun_type': 'possessive',\n",
        "'is_person': '',\n",
        "'person': '3'}\n",
        "\n",
        "page = requests.post(url, data = myobj)\n",
        "\n",
        "output = json.loads(page.text)\n",
        "\n",
        "\n",
        "if not output[\"error\"]:\n",
        "    #print(output[\"result\"])\n",
        "    inflected_sentence+=output[\"result\"]\n",
        "else:\n",
        "    print(\"Error1\")\n",
        "    print(page.text)\n",
        "# ---------------------------------------------------"
      ],
      "execution_count": 9,
      "outputs": []
    },
    {
      "cell_type": "markdown",
      "metadata": {
        "id": "jQFXVw_cawbS",
        "colab_type": "text"
      },
      "source": [
        "To continue the sentence, the words \"**to withdraw the**\" is independent and can't be changed with different factors (such as gender, number .. etc). On the other hand, the word \"أغنية\" (**song**) can be affected by the number, therefore, it is inflected using the \"ar_inflectNoun\"."
      ]
    },
    {
      "cell_type": "code",
      "metadata": {
        "id": "Dql1NcNRheSP",
        "colab_type": "code",
        "colab": {}
      },
      "source": [
        "inflected_sentence+=\" بسحب ال\"\n",
        "\n",
        "url = 'https://ar-nlg.herokuapp.com/ar_inflectNoun'\n",
        "myobj = {\n",
        "'number':'1',\n",
        "'word':'أغنية',\n",
        "'gender':'',\n",
        "'case':'',\n",
        "'dual':'',\n",
        "'plural':''}\n",
        "\n",
        "page = requests.post(url, data = myobj)\n",
        "\n",
        "\n",
        "\n",
        "output = json.loads(page.text)\n",
        "\n",
        "if not output[\"error\"]:\n",
        "    #print(output[\"result\"])\n",
        "    inflected_sentence+=output[\"result\"]\n",
        "else:\n",
        "    #print(page.text)\n",
        "    print(\"Error\")\n",
        "    \n"
      ],
      "execution_count": 10,
      "outputs": []
    },
    {
      "cell_type": "markdown",
      "metadata": {
        "id": "iKjIFuZob9-V",
        "colab_type": "text"
      },
      "source": [
        "The result of the cell below illustrate that both the original and the generated sentences are identical"
      ]
    },
    {
      "cell_type": "code",
      "metadata": {
        "id": "KMPjetdqb5RH",
        "colab_type": "code",
        "colab": {
          "base_uri": "https://localhost:8080/",
          "height": 51
        },
        "outputId": "1291f23e-89a5-4306-c75d-19742f7300ba"
      },
      "source": [
        "print(original_sentence)\n",
        "print(inflected_sentence)"
      ],
      "execution_count": 11,
      "outputs": [
        {
          "output_type": "stream",
          "text": [
            "بررت ساندي اتهاماتها لقرارها بسحب الأغنية \n",
            "بررت ساندي اتهاماتها لقرارها بسحب الأغنية\n"
          ],
          "name": "stdout"
        }
      ]
    }
  ]
}